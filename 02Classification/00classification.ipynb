{
 "cells": [
  {
   "cell_type": "markdown",
   "id": "6c43eb60",
   "metadata": {},
   "source": [
    "# Classification\n",
    "Regression is more about predicting values for a new data point\n",
    "Classification is about predicting a category.\n",
    "\n",
    "Some ML Classification models are - \n",
    "\n",
    "1. Logistic Regression\n",
    "2. K-nearest neighbours\n",
    "3. Support Vector Machines\n",
    "4. Kernel SVM\n",
    "5. Naive Bayes\n",
    "6. Decision Tree Classification\n",
    "7. Random Forest Classification\n"
   ]
  },
  {
   "cell_type": "code",
   "execution_count": null,
   "id": "752ad4ab",
   "metadata": {},
   "outputs": [],
   "source": []
  }
 ],
 "metadata": {
  "kernelspec": {
   "display_name": "Python 3 (ipykernel)",
   "language": "python",
   "name": "python3"
  },
  "language_info": {
   "codemirror_mode": {
    "name": "ipython",
    "version": 3
   },
   "file_extension": ".py",
   "mimetype": "text/x-python",
   "name": "python",
   "nbconvert_exporter": "python",
   "pygments_lexer": "ipython3",
   "version": "3.10.9"
  }
 },
 "nbformat": 4,
 "nbformat_minor": 5
}
